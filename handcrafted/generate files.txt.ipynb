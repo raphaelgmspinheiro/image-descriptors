{
 "cells": [
  {
   "cell_type": "code",
   "execution_count": null,
   "id": "6a88caf9",
   "metadata": {},
   "outputs": [],
   "source": [
    "#### Generates image names from a given dataset directory\n",
    "import os\n",
    "import pickle\n",
    "\n",
    "# Directory containing all binary images\n",
    "input_dir = r''\n",
    "\n",
    "# Path to save the output file\n",
    "output_file = r'\\files.txt'\n",
    "\n",
    "# List to store image filenames\n",
    "image_files = []\n",
    "\n",
    "# Collect files and class names\n",
    "class_names = set()\n",
    "for fname in os.listdir(input_dir):\n",
    "    if fname.lower().endswith(('.png', '.jpg', '.jpeg', '.bmp', '.tif')):\n",
    "        image_files.append(fname)\n",
    "        prefix = fname.split('__')[0]\n",
    "        class_names.add(prefix)\n",
    "\n",
    "# Sort and enumerate class names\n",
    "sorted_classes = sorted(list(class_names))\n",
    "class_dict = {i + 1: cls for i, cls in enumerate(sorted_classes)}\n",
    "\n",
    "# Save tuple (directory, image file list) to a pickle file\n",
    "with open(output_file, 'wb') as f:\n",
    "    pickle.dump((input_dir, image_files), f)\n",
    "\n",
    "# Print the class name dictionary\n",
    "print(class_dict)\n"
   ]
  }
 ],
 "metadata": {
  "kernelspec": {
   "display_name": "Python 3",
   "language": "python",
   "name": "python3"
  },
  "language_info": {
   "codemirror_mode": {
    "name": "ipython",
    "version": 3
   },
   "file_extension": ".py",
   "mimetype": "text/x-python",
   "name": "python",
   "nbconvert_exporter": "python",
   "pygments_lexer": "ipython3",
   "version": "3.8.8"
  }
 },
 "nbformat": 4,
 "nbformat_minor": 5
}

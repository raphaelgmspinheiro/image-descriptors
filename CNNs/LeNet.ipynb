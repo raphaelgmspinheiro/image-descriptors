{
 "cells": [
  {
   "cell_type": "code",
   "execution_count": 3,
   "id": "c97593df",
   "metadata": {},
   "outputs": [
    {
     "name": "stderr",
     "output_type": "stream",
     "text": [
      "Processando imagens: 100%|█████████████████████████████████████████████████████████| 8809/8809 [01:31<00:00, 95.84it/s]\n"
     ]
    },
    {
     "name": "stdout",
     "output_type": "stream",
     "text": [
      "Treinando Random Forest...\n",
      "Avaliando modelo...\n",
      "\n",
      "Acurácia: 96.14%\n",
      "F1 Score: 96.06%\n",
      "Precisão: 96.25%\n",
      "Recall: 96.14%\n"
     ]
    }
   ],
   "source": [
    "import os\n",
    "import numpy as np\n",
    "from keras.preprocessing import image\n",
    "from keras.models import Sequential\n",
    "from keras.layers import Conv2D, AveragePooling2D, Flatten, Dense\n",
    "from sklearn.ensemble import RandomForestClassifier\n",
    "from sklearn.model_selection import train_test_split\n",
    "from sklearn.metrics import accuracy_score, f1_score, precision_score, recall_score\n",
    "from tqdm import tqdm\n",
    "\n",
    "# Define LeNet\n",
    "def lenet_model(num_classes):\n",
    "    model = Sequential()\n",
    "    model.add(Conv2D(6, (5, 5), activation='relu', input_shape=(32, 32, 3)))\n",
    "    model.add(AveragePooling2D((2, 2)))\n",
    "    model.add(Conv2D(16, (5, 5), activation='relu'))\n",
    "    model.add(AveragePooling2D((2, 2)))\n",
    "    model.add(Flatten())\n",
    "    model.add(Dense(120, activation='relu'))\n",
    "    model.add(Dense(84, activation='relu'))\n",
    "    model.add(Dense(num_classes, activation='softmax'))\n",
    "    return model\n",
    "\n",
    "# Caminho base\n",
    "root_directory = r'MED115\\(sub)_MED_115_database_classes'\n",
    "classes = os.listdir(root_directory)\n",
    "\n",
    "# Modelo (não usado no pipeline atual, mas mantido se quiser treinar depois com Keras)\n",
    "model = lenet_model(len(classes))\n",
    "\n",
    "X = []\n",
    "y = []\n",
    "\n",
    "# Coleta todos os caminhos de imagem\n",
    "all_image_paths = []\n",
    "for class_name in classes:\n",
    "    class_dir = os.path.join(root_directory, class_name)\n",
    "    for filename in os.listdir(class_dir):\n",
    "        if filename.lower().endswith(('.jpg', '.jpeg', '.png', '.bmp')):\n",
    "            all_image_paths.append((class_name, os.path.join(class_dir, filename)))\n",
    "\n",
    "# Processa imagens com barra de progresso\n",
    "for class_name, img_path in tqdm(all_image_paths, desc=\"Processando imagens\"):\n",
    "    try:\n",
    "        img = image.load_img(img_path, target_size=(32, 32))\n",
    "        img = image.img_to_array(img)\n",
    "        img /= 255.0\n",
    "        X.append(img)\n",
    "        y.append(class_name)\n",
    "    except Exception as e:\n",
    "        print(f\"Erro ao processar {img_path}: {e}\")\n",
    "\n",
    "X = np.array(X)\n",
    "y = np.array(y)\n",
    "\n",
    "# Treino/teste\n",
    "X_train, X_test, y_train, y_test = train_test_split(\n",
    "    X, y, test_size=0.3, random_state=42, stratify=y\n",
    ")\n",
    "\n",
    "# Flatten para Random Forest\n",
    "X_train_flat = X_train.reshape(X_train.shape[0], -1)\n",
    "X_test_flat = X_test.reshape(X_test.shape[0], -1)\n",
    "\n",
    "# Random Forest\n",
    "print(\"Treinando Random Forest...\")\n",
    "clf = RandomForestClassifier(n_estimators=100, random_state=42)\n",
    "clf.fit(X_train_flat, y_train)\n",
    "\n",
    "# Avaliação\n",
    "print(\"Avaliando modelo...\")\n",
    "y_pred = clf.predict(X_test_flat)\n",
    "\n",
    "accuracy = accuracy_score(y_test, y_pred) * 100\n",
    "f1 = f1_score(y_test, y_pred, average='weighted') * 100\n",
    "precision = precision_score(y_test, y_pred, average='weighted', zero_division=0) * 100\n",
    "recall = recall_score(y_test, y_pred, average='weighted', zero_division=0) * 100\n",
    "\n",
    "print(f\"\\nAcurácia: {accuracy:.2f}%\")\n",
    "print(f\"F1 Score: {f1:.2f}%\")\n",
    "print(f\"Precision: {precision:.2f}%\")\n",
    "print(f\"Recall: {recall:.2f}%\")\n"
   ]
  },
  {
   "cell_type": "code",
   "execution_count": null,
   "id": "d4ea38dc",
   "metadata": {},
   "outputs": [],
   "source": []
  }
 ],
 "metadata": {
  "kernelspec": {
   "display_name": "Python 3",
   "language": "python",
   "name": "python3"
  },
  "language_info": {
   "codemirror_mode": {
    "name": "ipython",
    "version": 3
   },
   "file_extension": ".py",
   "mimetype": "text/x-python",
   "name": "python",
   "nbconvert_exporter": "python",
   "pygments_lexer": "ipython3",
   "version": "3.8.8"
  }
 },
 "nbformat": 4,
 "nbformat_minor": 5
}

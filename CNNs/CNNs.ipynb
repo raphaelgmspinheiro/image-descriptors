{
 "cells": [
  {
   "cell_type": "code",
   "execution_count": 1,
   "id": "27ff599b",
   "metadata": {},
   "outputs": [
    {
     "name": "stderr",
     "output_type": "stream",
     "text": [
      "Processando imagens: 100%|██████████████████████████████████████████████████████| 8809/8809 [11:53:58<00:00,  4.86s/it]\n"
     ]
    },
    {
     "name": "stdout",
     "output_type": "stream",
     "text": [
      "Treinando Random Forest...\n",
      "Avaliando modelo...\n",
      "\n",
      "Modelo: efficientnetv2l\n",
      "Acurácia: 87.59%\n",
      "F1 Score: 86.90%\n",
      "Precisão: 88.85%\n",
      "Recall: 87.59%\n"
     ]
    }
   ],
   "source": [
    "import os\n",
    "import numpy as np\n",
    "from keras.preprocessing import image\n",
    "from keras.applications import VGG16, Xception, InceptionV3, ResNet50, EfficientNetV2L\n",
    "from sklearn.ensemble import RandomForestClassifier\n",
    "from sklearn.model_selection import train_test_split\n",
    "from sklearn.metrics import accuracy_score, f1_score, precision_score, recall_score\n",
    "from tqdm import tqdm  # Para barra de progresso\n",
    "\n",
    "# Settings\n",
    "root_directory = r'MED115\\(sub)_MED_115_database_classes'\n",
    "chosen_model = 'efficientnetv2l'  # ou 'xception', 'inceptionv3', 'resnet50', 'efficientnetv2l'\n",
    "\n",
    "# Escolhe modelo\n",
    "if chosen_model == 'vgg16':\n",
    "    base_model = VGG16(weights='imagenet', include_top=False)\n",
    "    input_size = (224, 224)\n",
    "elif chosen_model == 'xception':\n",
    "    base_model = Xception(weights='imagenet', include_top=False)\n",
    "    input_size = (299, 299)\n",
    "elif chosen_model == 'inceptionv3':\n",
    "    base_model = InceptionV3(weights='imagenet', include_top=False)\n",
    "    input_size = (299, 299)\n",
    "elif chosen_model == 'resnet50':\n",
    "    base_model = ResNet50(weights='imagenet', include_top=False)\n",
    "    input_size = (224, 224)\n",
    "elif chosen_model == 'efficientnetv2l':\n",
    "    base_model = EfficientNetV2L(weights='imagenet', include_top=False)\n",
    "    input_size = (224, 224)\n",
    "else:\n",
    "    raise ValueError(\"Modelo desconhecido selecionado.\")\n",
    "\n",
    "X = []\n",
    "y = []\n",
    "\n",
    "# Coleta caminhos de imagens primeiro para usar com tqdm\n",
    "all_image_paths = []\n",
    "for class_name in os.listdir(root_directory):\n",
    "    class_dir = os.path.join(root_directory, class_name)\n",
    "    if os.path.isdir(class_dir):\n",
    "        for filename in os.listdir(class_dir):\n",
    "            if filename.lower().endswith(('.png', '.jpg', '.jpeg', '.bmp')):\n",
    "                all_image_paths.append((class_name, os.path.join(class_dir, filename)))\n",
    "\n",
    "# Processa imagens com barra de progresso\n",
    "for class_name, img_path in tqdm(all_image_paths, desc=\"Processando imagens\"):\n",
    "    try:\n",
    "        img = image.load_img(img_path, target_size=input_size, color_mode='rgb')\n",
    "        img = image.img_to_array(img)\n",
    "        img = np.expand_dims(img, axis=0)\n",
    "        img = img / 255.0\n",
    "\n",
    "        features = base_model.predict(img, verbose=0).flatten()\n",
    "        X.append(features)\n",
    "        y.append(class_name)\n",
    "    except Exception as e:\n",
    "        print(f\"Erro ao carregar {img_path}: {e}\")\n",
    "\n",
    "X = np.array(X)\n",
    "y = np.array(y)\n",
    "\n",
    "# Divide em treino e teste\n",
    "X_train, X_test, y_train, y_test = train_test_split(X, y, test_size=0.3, random_state=42)\n",
    "\n",
    "# Treina RandomForest\n",
    "print(\"Treinando Random Forest...\")\n",
    "clf = RandomForestClassifier(n_estimators=500, random_state=42)\n",
    "clf.fit(X_train, y_train)\n",
    "\n",
    "# Avaliação\n",
    "print(\"Avaliando modelo...\")\n",
    "y_pred = clf.predict(X_test)\n",
    "\n",
    "accuracy = accuracy_score(y_test, y_pred) * 100\n",
    "f1 = f1_score(y_test, y_pred, average='weighted') * 100\n",
    "precision = precision_score(y_test, y_pred, average='weighted', zero_division=0) * 100\n",
    "recall = recall_score(y_test, y_pred, average='weighted', zero_division=0) * 100\n",
    "\n",
    "print(f\"\\nModelo: {chosen_model}\")\n",
    "print(f\"Acurácia: {accuracy:.2f}%\")\n",
    "print(f\"F1 Score: {f1:.2f}%\")\n",
    "print(f\"Precisão: {precision:.2f}%\")\n",
    "print(f\"Recall: {recall:.2f}%\")"
   ]
  }
 ],
 "metadata": {
  "kernelspec": {
   "display_name": "Python 3",
   "language": "python",
   "name": "python3"
  },
  "language_info": {
   "codemirror_mode": {
    "name": "ipython",
    "version": 3
   },
   "file_extension": ".py",
   "mimetype": "text/x-python",
   "name": "python",
   "nbconvert_exporter": "python",
   "pygments_lexer": "ipython3",
   "version": "3.8.8"
  }
 },
 "nbformat": 4,
 "nbformat_minor": 5
}
